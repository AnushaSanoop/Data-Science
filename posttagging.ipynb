{
  "nbformat": 4,
  "nbformat_minor": 0,
  "metadata": {
    "colab": {
      "name": "posttagging.ipynb",
      "provenance": [],
      "authorship_tag": "ABX9TyN/9KKKdXYlTjFLxYcCwEH7",
      "include_colab_link": true
    },
    "kernelspec": {
      "name": "python3",
      "display_name": "Python 3"
    },
    "language_info": {
      "name": "python"
    }
  },
  "cells": [
    {
      "cell_type": "markdown",
      "metadata": {
        "id": "view-in-github",
        "colab_type": "text"
      },
      "source": [
        "<a href=\"https://colab.research.google.com/github/AnushaSanoop/Data-Science/blob/master/posttagging.ipynb\" target=\"_parent\"><img src=\"https://colab.research.google.com/assets/colab-badge.svg\" alt=\"Open In Colab\"/></a>"
      ]
    },
    {
      "cell_type": "code",
      "execution_count": 1,
      "metadata": {
        "colab": {
          "base_uri": "https://localhost:8080/"
        },
        "id": "g2SASMiBDefm",
        "outputId": "b026dcc1-e72b-4539-959d-3255419540ca"
      },
      "outputs": [
        {
          "output_type": "stream",
          "name": "stdout",
          "text": [
            "[nltk_data] Downloading package stopwords to /root/nltk_data...\n",
            "[nltk_data]   Unzipping corpora/stopwords.zip.\n",
            "[nltk_data] Downloading package punkt to /root/nltk_data...\n",
            "[nltk_data]   Unzipping tokenizers/punkt.zip.\n",
            "[nltk_data] Downloading package averaged_perceptron_tagger to\n",
            "[nltk_data]     /root/nltk_data...\n",
            "[nltk_data]   Unzipping taggers/averaged_perceptron_tagger.zip.\n"
          ]
        },
        {
          "output_type": "execute_result",
          "data": {
            "text/plain": [
              "True"
            ]
          },
          "metadata": {},
          "execution_count": 1
        }
      ],
      "source": [
        "import nltk\n",
        "from nltk.corpus import stopwords\n",
        "from nltk.tokenize import word_tokenize, sent_tokenize\n",
        "nltk.download('stopwords')\n",
        "nltk.download('punkt')\n",
        "nltk.download('averaged_perceptron_tagger')"
      ]
    },
    {
      "cell_type": "code",
      "source": [
        "text = word_tokenize(\"Hello Student program is Tagging with NLTK and Python\")\n",
        "nltk.pos_tag(text)"
      ],
      "metadata": {
        "colab": {
          "base_uri": "https://localhost:8080/"
        },
        "id": "Skvjn9rPDqr5",
        "outputId": "b7a572fb-9467-4707-aeea-d1aa0ae4e8f5"
      },
      "execution_count": 2,
      "outputs": [
        {
          "output_type": "execute_result",
          "data": {
            "text/plain": [
              "[('Hello', 'NNP'),\n",
              " ('Student', 'NNP'),\n",
              " ('program', 'NN'),\n",
              " ('is', 'VBZ'),\n",
              " ('Tagging', 'VBG'),\n",
              " ('with', 'IN'),\n",
              " ('NLTK', 'NNP'),\n",
              " ('and', 'CC'),\n",
              " ('Python', 'NNP')]"
            ]
          },
          "metadata": {},
          "execution_count": 2
        }
      ]
    },
    {
      "cell_type": "code",
      "source": [
        "stop_words = set(stopwords.words('english'))\n",
        "print(stop_words)\n"
      ],
      "metadata": {
        "colab": {
          "base_uri": "https://localhost:8080/"
        },
        "id": "N0knZaXkDviw",
        "outputId": "de7c8365-b81f-461c-c3b2-098df85e909d"
      },
      "execution_count": 3,
      "outputs": [
        {
          "output_type": "stream",
          "name": "stdout",
          "text": [
            "{'theirs', 'such', \"you'll\", \"aren't\", 'while', 'ain', 'the', 'isn', \"isn't\", 'are', 'hasn', 'was', 'had', 't', 'shouldn', 'i', 'being', \"wasn't\", 'needn', 'ourselves', 'we', 'will', \"weren't\", 'about', 'once', 'into', 'doesn', \"wouldn't\", 'where', 'nor', 'until', 'and', 'or', 'those', 'is', 'these', 'other', 're', 'me', 'wouldn', \"won't\", 'themselves', 'herself', 'y', 's', \"she's\", 'own', 'what', 'that', 'hers', 'should', 'having', 'don', 'your', 'to', 'whom', 'any', 'under', 'further', 'his', 'between', \"you'd\", 'both', 'have', 'him', 'same', 'a', 'he', 'against', 'ma', 'll', 'most', 'too', 'am', 'as', 'by', 'mustn', \"doesn't\", 'after', \"hadn't\", 'yourself', 'yours', 'some', 'her', 'not', 'there', 'just', 'do', 've', 'only', \"hasn't\", 'their', 'all', 'hadn', 'below', 'it', 'up', \"needn't\", 'how', 'again', 'itself', 'here', 'now', 'shan', 'has', 'but', 'weren', 'haven', \"you've\", \"mightn't\", 'more', 'before', 'who', 'didn', 'than', 'no', 'if', 'does', 'above', 'yourselves', 'an', 'they', 'when', 'mightn', \"didn't\", 'through', 'm', 'were', 'doing', 'on', 'for', 'o', 'with', 'over', 'my', \"don't\", 'wasn', 'them', 'so', 'its', 'did', 'couldn', 'himself', 'of', 'out', \"couldn't\", \"should've\", \"haven't\", \"that'll\", \"mustn't\", 'down', 'she', 'myself', 'few', 'from', \"shouldn't\", 'you', 'our', 'ours', 'at', 'd', \"you're\", 'then', \"it's\", 'which', 'each', 'off', 'why', 'because', 'can', 'be', 'been', 'during', 'won', 'in', 'very', 'aren', \"shan't\", 'this'}\n"
          ]
        }
      ]
    },
    {
      "cell_type": "code",
      "source": [
        "text = \"Python has a simple syntax similar to the English language and it's syntax that allows developers to write programs with fewer lines\"\n",
        "tokenized = sent_tokenize(text)\n",
        "print(tokenized)\n",
        "for i in tokenized:\n",
        "    wordsList = nltk.word_tokenize(i)\n",
        "    wordsList = [w for w in wordsList if not w in stop_words] \n",
        "    tagged = nltk.pos_tag(wordsList)\n",
        "    print(tagged)\n",
        "\n"
      ],
      "metadata": {
        "colab": {
          "base_uri": "https://localhost:8080/"
        },
        "id": "_LFokcdbD7O6",
        "outputId": "1733fd2d-cde1-451a-e735-e02d157b30bd"
      },
      "execution_count": 4,
      "outputs": [
        {
          "output_type": "stream",
          "name": "stdout",
          "text": [
            "[\"Python has a simple syntax similar to the English language and it's syntax that allows developers to write programs with fewer lines\"]\n",
            "[('Python', 'NNP'), ('simple', 'JJ'), ('syntax', 'NN'), ('similar', 'JJ'), ('English', 'NNP'), ('language', 'NN'), (\"'s\", 'POS'), ('syntax', 'NN'), ('allows', 'VBZ'), ('developers', 'NNS'), ('write', 'JJ'), ('programs', 'NNS'), ('fewer', 'JJR'), ('lines', 'NNS')]\n"
          ]
        }
      ]
    }
  ]
}