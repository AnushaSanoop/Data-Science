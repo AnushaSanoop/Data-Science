{
  "nbformat": 4,
  "nbformat_minor": 0,
  "metadata": {
    "colab": {
      "name": "co2KNN.ipynb",
      "provenance": [],
      "collapsed_sections": [],
      "authorship_tag": "ABX9TyPgRZ1R05Hjq2pbPvq1/UkQ",
      "include_colab_link": true
    },
    "kernelspec": {
      "name": "python3",
      "display_name": "Python 3"
    },
    "language_info": {
      "name": "python"
    }
  },
  "cells": [
    {
      "cell_type": "markdown",
      "metadata": {
        "id": "view-in-github",
        "colab_type": "text"
      },
      "source": [
        "<a href=\"https://colab.research.google.com/github/AnushaSanoop/Data-Science/blob/master/co2KNN.ipynb\" target=\"_parent\"><img src=\"https://colab.research.google.com/assets/colab-badge.svg\" alt=\"Open In Colab\"/></a>"
      ]
    },
    {
      "cell_type": "code",
      "execution_count": null,
      "metadata": {
        "id": "oXDUSpdTaz18"
      },
      "outputs": [],
      "source": [
        "from sklearn.datasets import load_iris\n",
        "data=load_iris()\n",
        "data"
      ]
    },
    {
      "cell_type": "code",
      "source": [
        "#KNN of tomato\n",
        "X=[[8,5],[3,7],[3,6],[7,3]]\n",
        "Y=[0,1,2,0]\n",
        "#0-fruit 1-vegetable 3-protein\n",
        "from sklearn.neighbors import KNeighborsClassifier\n",
        "#create an object of KNeighborsClassifier\n",
        "obj=KNeighborsClassifier(3)\n",
        "obj\n",
        "#fit a nearest neighbor classifier\n",
        "obj.fit(X,Y)\n",
        "#predict the class of tomato\n",
        "obj.predict([[6,4]])\n",
        "#predict the probability of tomato\n",
        "obj.predict_proba([[6,4]])"
      ],
      "metadata": {
        "colab": {
          "base_uri": "https://localhost:8080/"
        },
        "id": "6IAReVHBb3sv",
        "outputId": "336e983f-f0ec-45c0-f80e-84199fcf0134"
      },
      "execution_count": null,
      "outputs": [
        {
          "output_type": "execute_result",
          "data": {
            "text/plain": [
              "array([[0.66666667, 0.        , 0.33333333]])"
            ]
          },
          "metadata": {},
          "execution_count": 13
        }
      ]
    },
    {
      "cell_type": "code",
      "source": [
        "#KNN of iris dataset\n",
        "#load iris dataset from sklearn and store it into variable iris\n",
        "from sklearn.datasets import load_iris\n",
        "iris=load_iris()\n",
        "iris\n",
        "from sklearn.neighbors import KNeighborsClassifier\n",
        "#create an object for KNeighborsClassifier\n",
        "obj=KNeighborsClassifier(3)\n",
        "iris.data#data\n",
        "iris.target#target which specifies the classes 0-setosa 1-versicolor 2-virginica\n",
        "#fit a nearest neighbor classifier(Iris dataset has data and target)\n",
        "obj.fit(iris.data,iris.target)\n",
        "#predict the class of flowerwith features 0.1,0.2,0.3,0.4\n",
        "result=obj.predict([[0.1,0.2,0.3,0.4]])\n",
        "result\n",
        "#predict the probability\n",
        "probability=obj.predict_proba([[0.1,0.2,0.3,0.4]])\n",
        "probability#probability would be high for the class to which it belongs here the probability is 1 for setosa, 0 for versicolor and virginica"
      ],
      "metadata": {
        "colab": {
          "base_uri": "https://localhost:8080/"
        },
        "id": "1QfxwK0fhybX",
        "outputId": "5d521742-1f50-49c2-9246-34857a3ae09c"
      },
      "execution_count": null,
      "outputs": [
        {
          "output_type": "execute_result",
          "data": {
            "text/plain": [
              "array([[1., 0., 0.]])"
            ]
          },
          "metadata": {},
          "execution_count": 46
        }
      ]
    },
    {
      "cell_type": "code",
      "source": [
        "#KNN using traindata and test data\n",
        "from sklearn.datasets import load_iris\n",
        "iris=load_iris()\n",
        "iris\n",
        "from sklearn.model_selection import train_test_split\n",
        "data_train,data_test,target_train,target_test=train_test_split(iris.data,iris.target,test_size=30)\n",
        "data_train\n",
        "data_test\n",
        "#target_train\n",
        "#target_test\n",
        "from sklearn.neighbors import KNeighborsClassifier\n",
        "obj=KNeighborsClassifier(3)\n",
        "obj.fit(data_train,target_train)\n",
        "obj.predict(data_train)\n",
        "obj.predict_proba(data_train)"
      ],
      "metadata": {
        "colab": {
          "base_uri": "https://localhost:8080/"
        },
        "id": "L8P5FOibnSB0",
        "outputId": "a2ee228b-75da-467d-d28c-3daaf1a4d298"
      },
      "execution_count": null,
      "outputs": [
        {
          "output_type": "execute_result",
          "data": {
            "text/plain": [
              "array([[1.        , 0.        , 0.        ],\n",
              "       [1.        , 0.        , 0.        ],\n",
              "       [0.        , 1.        , 0.        ],\n",
              "       [0.        , 1.        , 0.        ],\n",
              "       [1.        , 0.        , 0.        ],\n",
              "       [0.        , 1.        , 0.        ],\n",
              "       [0.        , 1.        , 0.        ],\n",
              "       [0.        , 0.        , 1.        ],\n",
              "       [0.        , 1.        , 0.        ],\n",
              "       [0.        , 0.        , 1.        ],\n",
              "       [0.        , 1.        , 0.        ],\n",
              "       [0.        , 1.        , 0.        ],\n",
              "       [0.        , 1.        , 0.        ],\n",
              "       [0.        , 0.33333333, 0.66666667],\n",
              "       [0.        , 0.        , 1.        ],\n",
              "       [1.        , 0.        , 0.        ],\n",
              "       [0.        , 0.        , 1.        ],\n",
              "       [0.        , 1.        , 0.        ],\n",
              "       [1.        , 0.        , 0.        ],\n",
              "       [0.        , 1.        , 0.        ],\n",
              "       [0.        , 0.        , 1.        ],\n",
              "       [0.        , 1.        , 0.        ],\n",
              "       [0.        , 0.        , 1.        ],\n",
              "       [0.        , 1.        , 0.        ],\n",
              "       [0.        , 0.        , 1.        ],\n",
              "       [0.        , 1.        , 0.        ],\n",
              "       [0.        , 1.        , 0.        ],\n",
              "       [1.        , 0.        , 0.        ],\n",
              "       [0.        , 0.        , 1.        ],\n",
              "       [1.        , 0.        , 0.        ],\n",
              "       [1.        , 0.        , 0.        ],\n",
              "       [0.        , 0.66666667, 0.33333333],\n",
              "       [1.        , 0.        , 0.        ],\n",
              "       [1.        , 0.        , 0.        ],\n",
              "       [1.        , 0.        , 0.        ],\n",
              "       [1.        , 0.        , 0.        ],\n",
              "       [1.        , 0.        , 0.        ],\n",
              "       [0.        , 0.        , 1.        ],\n",
              "       [1.        , 0.        , 0.        ],\n",
              "       [1.        , 0.        , 0.        ],\n",
              "       [0.        , 0.        , 1.        ],\n",
              "       [1.        , 0.        , 0.        ],\n",
              "       [1.        , 0.        , 0.        ],\n",
              "       [1.        , 0.        , 0.        ],\n",
              "       [0.        , 0.        , 1.        ],\n",
              "       [1.        , 0.        , 0.        ],\n",
              "       [0.        , 0.        , 1.        ],\n",
              "       [0.        , 0.        , 1.        ],\n",
              "       [1.        , 0.        , 0.        ],\n",
              "       [0.        , 0.        , 1.        ],\n",
              "       [1.        , 0.        , 0.        ],\n",
              "       [0.        , 1.        , 0.        ],\n",
              "       [0.        , 0.        , 1.        ],\n",
              "       [0.        , 1.        , 0.        ],\n",
              "       [0.        , 1.        , 0.        ],\n",
              "       [0.        , 0.        , 1.        ],\n",
              "       [0.        , 1.        , 0.        ],\n",
              "       [0.        , 0.        , 1.        ],\n",
              "       [0.        , 0.        , 1.        ],\n",
              "       [1.        , 0.        , 0.        ],\n",
              "       [0.        , 1.        , 0.        ],\n",
              "       [1.        , 0.        , 0.        ],\n",
              "       [1.        , 0.        , 0.        ],\n",
              "       [0.        , 1.        , 0.        ],\n",
              "       [1.        , 0.        , 0.        ],\n",
              "       [0.        , 1.        , 0.        ],\n",
              "       [1.        , 0.        , 0.        ],\n",
              "       [1.        , 0.        , 0.        ],\n",
              "       [0.        , 1.        , 0.        ],\n",
              "       [0.        , 0.        , 1.        ],\n",
              "       [0.        , 1.        , 0.        ],\n",
              "       [0.        , 1.        , 0.        ],\n",
              "       [0.        , 0.        , 1.        ],\n",
              "       [0.        , 0.        , 1.        ],\n",
              "       [0.        , 0.66666667, 0.33333333],\n",
              "       [0.        , 0.        , 1.        ],\n",
              "       [0.        , 0.33333333, 0.66666667],\n",
              "       [0.        , 0.        , 1.        ],\n",
              "       [0.        , 1.        , 0.        ],\n",
              "       [0.        , 0.66666667, 0.33333333],\n",
              "       [1.        , 0.        , 0.        ],\n",
              "       [0.        , 1.        , 0.        ],\n",
              "       [1.        , 0.        , 0.        ],\n",
              "       [0.        , 0.        , 1.        ],\n",
              "       [1.        , 0.        , 0.        ],\n",
              "       [0.        , 1.        , 0.        ],\n",
              "       [1.        , 0.        , 0.        ],\n",
              "       [1.        , 0.        , 0.        ],\n",
              "       [0.        , 0.        , 1.        ],\n",
              "       [0.        , 1.        , 0.        ],\n",
              "       [1.        , 0.        , 0.        ],\n",
              "       [1.        , 0.        , 0.        ],\n",
              "       [0.        , 0.        , 1.        ],\n",
              "       [0.        , 0.        , 1.        ],\n",
              "       [1.        , 0.        , 0.        ],\n",
              "       [0.        , 1.        , 0.        ],\n",
              "       [1.        , 0.        , 0.        ],\n",
              "       [0.        , 0.        , 1.        ],\n",
              "       [0.        , 1.        , 0.        ],\n",
              "       [0.        , 0.66666667, 0.33333333],\n",
              "       [1.        , 0.        , 0.        ],\n",
              "       [1.        , 0.        , 0.        ],\n",
              "       [0.        , 0.33333333, 0.66666667],\n",
              "       [1.        , 0.        , 0.        ],\n",
              "       [1.        , 0.        , 0.        ],\n",
              "       [0.        , 1.        , 0.        ],\n",
              "       [1.        , 0.        , 0.        ],\n",
              "       [0.        , 1.        , 0.        ],\n",
              "       [0.        , 1.        , 0.        ],\n",
              "       [0.        , 0.        , 1.        ],\n",
              "       [0.        , 1.        , 0.        ],\n",
              "       [0.        , 0.33333333, 0.66666667],\n",
              "       [0.        , 0.        , 1.        ],\n",
              "       [0.        , 1.        , 0.        ],\n",
              "       [0.        , 0.        , 1.        ],\n",
              "       [0.        , 0.        , 1.        ],\n",
              "       [1.        , 0.        , 0.        ],\n",
              "       [0.        , 0.        , 1.        ],\n",
              "       [1.        , 0.        , 0.        ],\n",
              "       [1.        , 0.        , 0.        ]])"
            ]
          },
          "metadata": {},
          "execution_count": 58
        }
      ]
    }
  ]
}