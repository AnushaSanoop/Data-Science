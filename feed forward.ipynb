{
  "nbformat": 4,
  "nbformat_minor": 0,
  "metadata": {
    "colab": {
      "name": "Untitled1.ipynb",
      "provenance": [],
      "authorship_tag": "ABX9TyNHUB1UXUpFKTSTFWadevf3",
      "include_colab_link": true
    },
    "kernelspec": {
      "name": "python3",
      "display_name": "Python 3"
    },
    "language_info": {
      "name": "python"
    }
  },
  "cells": [
    {
      "cell_type": "markdown",
      "metadata": {
        "id": "view-in-github",
        "colab_type": "text"
      },
      "source": [
        "<a href=\"https://colab.research.google.com/github/AnushaSanoop/Data-Science/blob/master/feed%20forward.ipynb\" target=\"_parent\"><img src=\"https://colab.research.google.com/assets/colab-badge.svg\" alt=\"Open In Colab\"/></a>"
      ]
    },
    {
      "cell_type": "code",
      "execution_count": 3,
      "metadata": {
        "id": "NjfjussNeXxg"
      },
      "outputs": [],
      "source": [
        "from sklearn.datasets import load_iris\n",
        "iris=load_iris()"
      ]
    },
    {
      "cell_type": "code",
      "source": [
        "from sklearn.model_selection import train_test_split\n",
        "x_train,x_test,y_train,y_test=train_test_split(iris.data,iris.target,test_size=0.2,random_state=1)"
      ],
      "metadata": {
        "id": "OwfTP2SceY2b"
      },
      "execution_count": 4,
      "outputs": []
    },
    {
      "cell_type": "code",
      "source": [
        "## hidden_layer_sizes: tuple, length = n_layers - 2, default=(100,)\n",
        "#The ith element represents the number of neurons in the ith hidden layer. (6,) means one hidden layer with 6 neurons\n",
        "\n",
        "#solver:\n",
        "#The weight optimization can be influenced with the solver parameter. Three solver modes are available\n",
        "\n",
        "#    'lbfgs'\n",
        "#    is an optimizer in the family of quasi-Newton methods.\n",
        "#   'sgd'\n",
        "#   refers to stochastic gradient descent.\n",
        "#   'adam' refers to a stochastic gradient-based optimizer proposed by Kingma, Diederik, and Jimmy Ba\n",
        "\n",
        "#Without understanding in the details of the solvers, you should know the following: 'adam' works pretty well - both training time and validation score - on relatively large datasets, i.e. thousands of training samples or more. For small datasets, however, 'lbfgs' can converge faster and perform better.\n",
        "\n",
        "#'alpha'\n",
        "#This parameter can be used to control possible 'overfitting' and 'underfitting'. "
      ],
      "metadata": {
        "id": "wiyE8mLmebAy"
      },
      "execution_count": 2,
      "outputs": []
    },
    {
      "cell_type": "code",
      "source": [
        "from sklearn.neural_network import MLPClassifier\n",
        "\n",
        "clf = MLPClassifier(solver='lbfgs', \n",
        "                    alpha=1e-5,\n",
        "                    hidden_layer_sizes=(6,), \n",
        "                    random_state=1)\n",
        "\n",
        "clf.fit(x_train,y_train)     "
      ],
      "metadata": {
        "colab": {
          "base_uri": "https://localhost:8080/"
        },
        "id": "T7Q8EuKMec7q",
        "outputId": "006a77e8-2fd1-4de7-afd4-f3959534bc27"
      },
      "execution_count": 5,
      "outputs": [
        {
          "output_type": "execute_result",
          "data": {
            "text/plain": [
              "MLPClassifier(alpha=1e-05, hidden_layer_sizes=(6,), random_state=1,\n",
              "              solver='lbfgs')"
            ]
          },
          "metadata": {},
          "execution_count": 5
        }
      ]
    },
    {
      "cell_type": "code",
      "source": [
        "y_pred=clf.predict(x_test)\n",
        "print(y_pred)"
      ],
      "metadata": {
        "colab": {
          "base_uri": "https://localhost:8080/"
        },
        "id": "z475oO6uefKq",
        "outputId": "53bd9101-e2b6-4de0-cec0-db10b6ccc11b"
      },
      "execution_count": 7,
      "outputs": [
        {
          "output_type": "stream",
          "name": "stdout",
          "text": [
            "[2 2 2 2 2 2 2 2 2 2 2 2 2 2 2 2 2 2 2 2 2 2 2 2 2 2 2 2 2 2]\n"
          ]
        }
      ]
    },
    {
      "cell_type": "code",
      "source": [
        "from sklearn.metrics import accuracy_score\n",
        "print(\"accuracy score:\",accuracy_score(y_test,y_pred))"
      ],
      "metadata": {
        "colab": {
          "base_uri": "https://localhost:8080/"
        },
        "id": "dq5dQXs6ehia",
        "outputId": "45fdf6e9-fc55-445a-ec06-43d92ed00958"
      },
      "execution_count": 8,
      "outputs": [
        {
          "output_type": "stream",
          "name": "stdout",
          "text": [
            "accuracy score: 0.2\n"
          ]
        }
      ]
    }
  ]
}