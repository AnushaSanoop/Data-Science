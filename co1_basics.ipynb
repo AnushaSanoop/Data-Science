{
  "nbformat": 4,
  "nbformat_minor": 0,
  "metadata": {
    "colab": {
      "name": "co1-basics.ipynb",
      "provenance": [],
      "authorship_tag": "ABX9TyPMaXmiFrQJ3DgGhdWlfwqp",
      "include_colab_link": true
    },
    "kernelspec": {
      "name": "python3",
      "display_name": "Python 3"
    },
    "language_info": {
      "name": "python"
    }
  },
  "cells": [
    {
      "cell_type": "markdown",
      "metadata": {
        "id": "view-in-github",
        "colab_type": "text"
      },
      "source": [
        "<a href=\"https://colab.research.google.com/github/AnushaSanoop/Data-Science/blob/master/co1_basics.ipynb\" target=\"_parent\"><img src=\"https://colab.research.google.com/assets/colab-badge.svg\" alt=\"Open In Colab\"/></a>"
      ]
    },
    {
      "cell_type": "code",
      "metadata": {
        "colab": {
          "base_uri": "https://localhost:8080/"
        },
        "id": "V5JssWEgOGvi",
        "outputId": "13a7f7e5-2e98-4622-9bd0-7b8f36ade63f"
      },
      "source": [
        "import numpy as np\n",
        "arr=np.array([5,1,2])\n",
        "print(\"Array type of \",arr,\" = \",type(arr))\n",
        "print(\"Shape of \",arr,\" = \",arr.shape)\n",
        "a1=np.array([1])\n",
        "print(a1)\n",
        "arr.ndim\n"
      ],
      "execution_count": null,
      "outputs": [
        {
          "output_type": "stream",
          "name": "stdout",
          "text": [
            "Array type of  [5 1 2]  =  <class 'numpy.ndarray'>\n",
            "Shape of  [5 1 2]  =  (3,)\n",
            "[1]\n"
          ]
        },
        {
          "output_type": "execute_result",
          "data": {
            "text/plain": [
              "1"
            ]
          },
          "metadata": {},
          "execution_count": 20
        }
      ]
    },
    {
      "cell_type": "code",
      "metadata": {
        "colab": {
          "base_uri": "https://localhost:8080/"
        },
        "id": "lXxfqwxmR7cL",
        "outputId": "f8473169-6f4a-412a-f38b-635ca1cff8e9"
      },
      "source": [
        "a2=np.array([[2,1,3,4],[8,9,6,7]])\n",
        "print(\"Array type of \",a2,\" = \",type(a2))\n",
        "print(\"Shape of \",a2,\" = \",a2.shape)\n",
        "print(\"Dimnsion of \",a2,\" = \",a2.ndim)\n",
        "a2.shape=4,2\n",
        "print(\"Shape of \",a2,\" = \",a2.shape)"
      ],
      "execution_count": null,
      "outputs": [
        {
          "output_type": "stream",
          "name": "stdout",
          "text": [
            "Array type of  [[2 1 3 4]\n",
            " [8 9 6 7]]  =  <class 'numpy.ndarray'>\n",
            "Shape of  [[2 1 3 4]\n",
            " [8 9 6 7]]  =  (2, 4)\n",
            "Dimnsion of  [[2 1 3 4]\n",
            " [8 9 6 7]]  =  2\n",
            "[[2 1 3 4]\n",
            " [8 9 6 7]]\n",
            "[[2 1]\n",
            " [3 4]\n",
            " [8 9]\n",
            " [6 7]]\n",
            "Shape of  [[2 1]\n",
            " [3 4]\n",
            " [8 9]\n",
            " [6 7]]  =  (4, 2)\n"
          ]
        }
      ]
    },
    {
      "cell_type": "code",
      "metadata": {
        "colab": {
          "base_uri": "https://localhost:8080/"
        },
        "id": "cv1XUvavb6t8",
        "outputId": "6ee8267f-4b3c-4285-e9b9-78e12407e499"
      },
      "source": [
        "#reshape\n",
        "\n",
        "a=np.array([1,2,3,4,5,6,7,8,9,10,11,12,13,14,15])\n",
        "print(a)\n",
        "print(a.reshape(3,5))"
      ],
      "execution_count": null,
      "outputs": [
        {
          "output_type": "stream",
          "name": "stdout",
          "text": [
            "[ 1  2  3  4  5  6  7  8  9 10 11 12 13 14 15]\n",
            "[[ 1  2  3  4  5]\n",
            " [ 6  7  8  9 10]\n",
            " [11 12 13 14 15]]\n"
          ]
        }
      ]
    },
    {
      "cell_type": "code",
      "metadata": {
        "colab": {
          "base_uri": "https://localhost:8080/"
        },
        "id": "Iu86g8RXc5Yb",
        "outputId": "fd44a037-e5c1-419c-89fe-a0b6fffc0f98"
      },
      "source": [
        "#resize\n",
        "\n",
        "a=np.array([1,2,3,4])\n",
        "print(\"Original\",a)\n",
        "a.resize(2,4)\n",
        "print(a)\n"
      ],
      "execution_count": null,
      "outputs": [
        {
          "output_type": "stream",
          "name": "stdout",
          "text": [
            "Original [1 2 3 4]\n",
            "[[1 2 3 4]\n",
            " [0 0 0 0]]\n"
          ]
        }
      ]
    },
    {
      "cell_type": "code",
      "metadata": {
        "colab": {
          "base_uri": "https://localhost:8080/"
        },
        "id": "w1PjRhocgB21",
        "outputId": "5776b193-d079-45b0-a551-1032e9fd915c"
      },
      "source": [
        "a = np.array([[1,2], [3,4]])\n",
        "np.resize(a, (2,3))"
      ],
      "execution_count": null,
      "outputs": [
        {
          "output_type": "execute_result",
          "data": {
            "text/plain": [
              "array([[1, 2, 3],\n",
              "       [4, 1, 2]])"
            ]
          },
          "metadata": {},
          "execution_count": 71
        }
      ]
    },
    {
      "cell_type": "code",
      "metadata": {
        "colab": {
          "base_uri": "https://localhost:8080/"
        },
        "id": "FGldnJL7T6h_",
        "outputId": "3e04c723-66f7-4797-be9a-55e0991cddbb"
      },
      "source": [
        "l=[1,2,3,4,5]\n",
        "l_arr=np.array(l)\n",
        "print(\"List \",l,\" into an array= \",l_arr)\n",
        "t=(4,5,6)\n",
        "t_arr=np.array(t)\n",
        "print(\"Tuple \",t,\" into an array= \",t_arr)"
      ],
      "execution_count": null,
      "outputs": [
        {
          "output_type": "stream",
          "name": "stdout",
          "text": [
            "List  [1, 2, 3, 4, 5]  into an array=  [1 2 3 4 5]\n",
            "Tuple  (4, 5, 6)  into an array=  [4 5 6]\n"
          ]
        }
      ]
    },
    {
      "cell_type": "code",
      "metadata": {
        "colab": {
          "base_uri": "https://localhost:8080/"
        },
        "id": "Z2SrmD_nS0fS",
        "outputId": "19fe579d-a0bc-4a5c-9d5b-d97c0ec1ce04"
      },
      "source": [
        "ze=np.zeros((3,2),dtype=int)\n",
        "print(ze)\n",
        "on=np.ones((2,4),dtype=int)\n",
        "print(on)"
      ],
      "execution_count": null,
      "outputs": [
        {
          "output_type": "stream",
          "name": "stdout",
          "text": [
            "[[0 0]\n",
            " [0 0]\n",
            " [0 0]]\n",
            "[[1 1 1 1]\n",
            " [1 1 1 1]]\n"
          ]
        }
      ]
    },
    {
      "cell_type": "code",
      "metadata": {
        "colab": {
          "base_uri": "https://localhost:8080/"
        },
        "id": "qKzzHVesWHUV",
        "outputId": "d30c0604-3501-4519-ffc8-df9d3f09f5e3"
      },
      "source": [
        "identityMatrix=np.eye(3,dtype=int)\n",
        "print(identityMatrix)"
      ],
      "execution_count": null,
      "outputs": [
        {
          "output_type": "stream",
          "name": "stdout",
          "text": [
            "[[1 0 0]\n",
            " [0 1 0]\n",
            " [0 0 1]]\n"
          ]
        }
      ]
    },
    {
      "cell_type": "code",
      "metadata": {
        "colab": {
          "base_uri": "https://localhost:8080/"
        },
        "id": "2IKMp1CJWoff",
        "outputId": "ee33ecc2-58ca-4246-bc80-ccceb7d01ffe"
      },
      "source": [
        "#arange function\n",
        "\n",
        "n=np.arange(10,20)\n",
        "print(n)\n",
        "n1=np.arange(1,20,2)\n",
        "print(n1)\n",
        "n1=np.arange(1,20,3)\n",
        "print(n1)"
      ],
      "execution_count": null,
      "outputs": [
        {
          "output_type": "stream",
          "name": "stdout",
          "text": [
            "[10 11 12 13 14 15 16 17 18 19]\n",
            "[ 1  3  5  7  9 11 13 15 17 19]\n",
            "[ 1  4  7 10 13 16 19]\n"
          ]
        }
      ]
    },
    {
      "cell_type": "code",
      "metadata": {
        "colab": {
          "base_uri": "https://localhost:8080/"
        },
        "id": "Jwi0K2M2XoxD",
        "outputId": "ae6b9c1b-c3ae-415c-cb78-4b4b739394da"
      },
      "source": [
        "#Operations\n",
        "\n",
        "a=np.array([1,4,12,8])\n",
        "b=np.array([6,8,12,76])\n",
        "print(a,\"+\",b,\"=\",np.add(a,b))\n",
        "print(np.sum([a]))\n",
        "print(np.sum([b]))\n",
        "print(np.sum([a,b]))\n",
        "\n",
        "\n",
        "print(b,\"-\",a,\"=\",np.subtract(b,a))\n",
        "print(b,\"/\",a,\"=\",np.divide(b,a))\n",
        "print(b,\"/\",a,\"=\",np.divmod(b,a))\n",
        "print(a,\"**2\",\"=\",np.power(a,2))"
      ],
      "execution_count": null,
      "outputs": [
        {
          "output_type": "stream",
          "name": "stdout",
          "text": [
            "[ 1  4 12  8] + [ 6  8 12 76] = [ 7 12 24 84]\n",
            "25\n",
            "102\n",
            "127\n",
            "[ 6  8 12 76] - [ 1  4 12  8] = [ 5  4  0 68]\n",
            "[ 6  8 12 76] / [ 1  4 12  8] = [6.  2.  1.  9.5]\n",
            "[ 6  8 12 76] / [ 1  4 12  8] = (array([6, 2, 1, 9]), array([0, 0, 0, 4]))\n",
            "[ 1  4 12  8] **2 = [  1  16 144  64]\n"
          ]
        }
      ]
    },
    {
      "cell_type": "code",
      "metadata": {
        "id": "dizzwwLlb5Am"
      },
      "source": [
        ""
      ],
      "execution_count": null,
      "outputs": []
    }
  ]
}