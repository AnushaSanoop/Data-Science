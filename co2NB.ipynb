{
  "nbformat": 4,
  "nbformat_minor": 0,
  "metadata": {
    "colab": {
      "name": "co2NB.ipynb",
      "provenance": [],
      "collapsed_sections": [],
      "authorship_tag": "ABX9TyNXrLUAh0CoH9aZ1ii4pe7T",
      "include_colab_link": true
    },
    "kernelspec": {
      "name": "python3",
      "display_name": "Python 3"
    },
    "language_info": {
      "name": "python"
    }
  },
  "cells": [
    {
      "cell_type": "markdown",
      "metadata": {
        "id": "view-in-github",
        "colab_type": "text"
      },
      "source": [
        "<a href=\"https://colab.research.google.com/github/AnushaSanoop/Data-Science/blob/master/co2NB.ipynb\" target=\"_parent\"><img src=\"https://colab.research.google.com/assets/colab-badge.svg\" alt=\"Open In Colab\"/></a>"
      ]
    },
    {
      "cell_type": "code",
      "execution_count": null,
      "metadata": {
        "id": "HSCf_rlg6QsQ"
      },
      "outputs": [],
      "source": [
        "from sklearn.datasets import load_iris\n",
        "from sklearn.model_selection import train_test_split\n",
        "from sklearn.naive_bayes import GaussianNB\n",
        "iris=load_iris()\n",
        "x_train,x_test,y_train,y_test=train_test_split(iris.data,iris.target,test_size=0.25)\n",
        "#create a gaussian nb classifier\n",
        "gnb=GaussianNB()\n",
        "#train the model using training set \n",
        "gnb.fit(x_train,y_train)\n",
        "#predict the response for test data set\n",
        "y_predict=gnb.predict(x_test)\n",
        "\n"
      ]
    },
    {
      "cell_type": "code",
      "source": [
        "y_test"
      ],
      "metadata": {
        "colab": {
          "base_uri": "https://localhost:8080/"
        },
        "id": "Pf78ZWCAK4WQ",
        "outputId": "07cb5045-ae48-4041-fec9-1f0bf3bd3e1b"
      },
      "execution_count": null,
      "outputs": [
        {
          "output_type": "execute_result",
          "data": {
            "text/plain": [
              "array([1, 1, 0, 0, 0, 0, 0, 2, 2, 0, 2, 2, 1, 1, 0, 1, 0, 2, 1, 0, 0, 1,\n",
              "       2, 1, 2, 2, 1, 1, 0, 1, 2, 1, 1, 1, 1, 0, 2, 1])"
            ]
          },
          "metadata": {},
          "execution_count": 13
        }
      ]
    },
    {
      "cell_type": "code",
      "source": [
        "#import metrics module for accuracy calculation\n",
        "from sklearn import metrics\n",
        "print(\"Accuracy:\",metrics.accuracy_score(y_test,y_predict))"
      ],
      "metadata": {
        "colab": {
          "base_uri": "https://localhost:8080/"
        },
        "id": "Ik5p_LEcLqq3",
        "outputId": "3532ae30-34a2-4fbb-a04b-f80f598afa23"
      },
      "execution_count": null,
      "outputs": [
        {
          "output_type": "stream",
          "name": "stdout",
          "text": [
            "Accuracy: 0.9210526315789473\n"
          ]
        }
      ]
    },
    {
      "cell_type": "code",
      "source": [
        ""
      ],
      "metadata": {
        "id": "2n3fPYL-GeM2"
      },
      "execution_count": null,
      "outputs": []
    }
  ]
}