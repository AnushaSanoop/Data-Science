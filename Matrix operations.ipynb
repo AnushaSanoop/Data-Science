{
  "nbformat": 4,
  "nbformat_minor": 0,
  "metadata": {
    "colab": {
      "name": "Untitled2.ipynb",
      "provenance": [],
      "authorship_tag": "ABX9TyP0WlfVEC9OvAc4gzieo3FA",
      "include_colab_link": true
    },
    "kernelspec": {
      "name": "python3",
      "display_name": "Python 3"
    },
    "language_info": {
      "name": "python"
    }
  },
  "cells": [
    {
      "cell_type": "markdown",
      "metadata": {
        "id": "view-in-github",
        "colab_type": "text"
      },
      "source": [
        "<a href=\"https://colab.research.google.com/github/AnushaSanoop/Data-Science/blob/master/Matrix%20operations.ipynb\" target=\"_parent\"><img src=\"https://colab.research.google.com/assets/colab-badge.svg\" alt=\"Open In Colab\"/></a>"
      ]
    },
    {
      "cell_type": "code",
      "execution_count": 1,
      "metadata": {
        "colab": {
          "base_uri": "https://localhost:8080/"
        },
        "id": "WGtKjIvnp2HF",
        "outputId": "2aed8111-740d-4dbe-d397-5196f0f0b0d7"
      },
      "outputs": [
        {
          "output_type": "stream",
          "name": "stdout",
          "text": [
            "The element wise multiplication of matrix is : \n",
            "[[ 7 16]\n",
            " [36 50]]\n",
            "The product of matrices is : \n",
            "[[25 28]\n",
            " [73 82]]\n"
          ]
        }
      ],
      "source": [
        "# Python code to demonstrate matrix operations\n",
        "# multiply() and dot()\n",
        "  \n",
        "# importing numpy for matrix operations\n",
        "import numpy\n",
        "  \n",
        "# initializing matrices\n",
        "x = numpy.array([[1, 2], [4, 5]])\n",
        "y = numpy.array([[7, 8], [9, 10]])\n",
        "  \n",
        "# using multiply() to multiply matrices element wise\n",
        "print (\"The element wise multiplication of matrix is : \")\n",
        "print (numpy.multiply(x,y))\n",
        "  \n",
        "# using dot() to multiply matrices\n",
        "print (\"The product of matrices is : \")\n",
        "print (numpy.dot(x,y))"
      ]
    },
    {
      "cell_type": "code",
      "source": [
        "# using \"T\" to transpose the matrix\n",
        "print(\"Given matrix:\")\n",
        "print(x)\n",
        "print (\"The transpose of given matrix is : \")\n",
        "print (x.T)"
      ],
      "metadata": {
        "colab": {
          "base_uri": "https://localhost:8080/"
        },
        "id": "EHlHh1dRqGSI",
        "outputId": "43781068-0728-438f-d7da-7194758172a6"
      },
      "execution_count": 3,
      "outputs": [
        {
          "output_type": "stream",
          "name": "stdout",
          "text": [
            "Given matrix:\n",
            "[[1 2]\n",
            " [4 5]]\n",
            "The transpose of given matrix is : \n",
            "[[1 4]\n",
            " [2 5]]\n"
          ]
        }
      ]
    },
    {
      "cell_type": "code",
      "source": [
        "# using \"trace\" to find trace of the matrix\n",
        "print (\"The trace of given matrix is : \")\n",
        "print (x.trace())"
      ],
      "metadata": {
        "colab": {
          "base_uri": "https://localhost:8080/"
        },
        "id": "RC7UziNQrNk_",
        "outputId": "a20a2010-d98b-4da7-ae2d-89ec505bd78a"
      },
      "execution_count": 5,
      "outputs": [
        {
          "output_type": "stream",
          "name": "stdout",
          "text": [
            "The trace of given matrix is : \n",
            "6\n"
          ]
        }
      ]
    },
    {
      "cell_type": "code",
      "source": [
        "#Rank of matrix\n",
        "print(numpy.linalg.matrix_rank(x))"
      ],
      "metadata": {
        "colab": {
          "base_uri": "https://localhost:8080/"
        },
        "id": "A6Deh55WrwVw",
        "outputId": "84b8ada4-6817-465c-b030-c502e4c9f97d"
      },
      "execution_count": 6,
      "outputs": [
        {
          "output_type": "stream",
          "name": "stdout",
          "text": [
            "2\n"
          ]
        }
      ]
    },
    {
      "cell_type": "code",
      "source": [
        "#Determinant of matrix\n",
        "print(numpy.linalg.det(x))"
      ],
      "metadata": {
        "colab": {
          "base_uri": "https://localhost:8080/"
        },
        "id": "rBCKE03xsAbI",
        "outputId": "9382f269-8933-45e1-a10e-906b847c4c1c"
      },
      "execution_count": 7,
      "outputs": [
        {
          "output_type": "stream",
          "name": "stdout",
          "text": [
            "-2.9999999999999996\n"
          ]
        }
      ]
    },
    {
      "cell_type": "code",
      "source": [
        "#Inverse of matrix\n",
        "print(numpy.linalg.inv(x))"
      ],
      "metadata": {
        "colab": {
          "base_uri": "https://localhost:8080/"
        },
        "id": "T3likEAVsJOx",
        "outputId": "d0d54576-73d9-473c-edf5-a871565f00d3"
      },
      "execution_count": 8,
      "outputs": [
        {
          "output_type": "stream",
          "name": "stdout",
          "text": [
            "[[-1.66666667  0.66666667]\n",
            " [ 1.33333333 -0.33333333]]\n"
          ]
        }
      ]
    },
    {
      "cell_type": "code",
      "source": [
        "#Eigen values of matrix\n",
        "print(numpy.linalg.eig(x))"
      ],
      "metadata": {
        "colab": {
          "base_uri": "https://localhost:8080/"
        },
        "id": "VTs091fesSiA",
        "outputId": "11359c38-1aae-4c1d-b2e6-7e4182ad6d85"
      },
      "execution_count": 9,
      "outputs": [
        {
          "output_type": "stream",
          "name": "stdout",
          "text": [
            "(array([-0.46410162,  6.46410162]), array([[-0.80689822, -0.34372377],\n",
            "       [ 0.59069049, -0.9390708 ]]))\n"
          ]
        }
      ]
    }
  ]
}